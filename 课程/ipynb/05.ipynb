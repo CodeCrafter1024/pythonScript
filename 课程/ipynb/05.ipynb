{
 "cells": [
  {
   "cell_type": "code",
   "execution_count": 1,
   "metadata": {},
   "outputs": [],
   "source": [
    "import copy"
   ]
  },
  {
   "cell_type": "code",
   "execution_count": 2,
   "metadata": {},
   "outputs": [],
   "source": [
    "beijing={\"GDP\":35371.28,\"总人口\":1375.8,\"平均房价\":37420.19,\"平均工资\":145766,\"地铁总里程\":699.3,\"高校总数\":116,\"三甲医院\":78,\"小学生数量\":91.3}\n",
    "shanghai={\"GDP\":35155.32,\"总人口\":1462.38,\"平均房价\":28981.11,\"平均工资\":140400,\"地铁总里程\":705,\"高校总数\":78,\"三甲医院\":66,\"小学生数量\":80.02}\n",
    "shenzhen={\"GDP\":26927.09,\"总人口\":454.70,\"平均房价\":55441.01,\"平均工资\":111709,\"地铁总里程\":303.4,\"高校总数\":8,\"三甲医院\":66,\"小学生数量\":102.8}\n",
    "guangzhou={\"GDP\":23628.60,\"总人口\":927.69,\"平均房价\":21581.27,\"平均工资\":111839,\"地铁总里程\":513,\"高校总数\":91,\"三甲医院\":62,\"小学生数量\":105.85}\n",
    "chengdu={\"GDP\":17012.65,\"总人口\":1476.05,\"平均房价\":9783.16,\"平均工资\":88011,\"地铁总里程\":302.285,\"高校总数\":68,\"三甲医院\":29,\"小学生数量\":94.2}\n",
    "chongqing={\"GDP\":23605.77,\"总人口\":1962.66,\"平均房价\":8189.98,\"平均工资\":78928,\"地铁总里程\":313.36,\"高校总数\":69,\"三甲医院\":27,\"小学生数量\":126.15}\n",
    "hangzhou={\"GDP\":15373,\"总人口\":774.10,\"平均房价\":24360.20,\"平均工资\":106709,\"地铁总里程\":135.36,\"高校总数\":46,\"三甲医院\":20,\"小学生数量\":59.1}\n",
    "wuhan={\"GDP\":17157,\"总人口\":883.73,\"平均房价\":12678.48,\"平均工资\":88327,\"地铁总里程\":339,\"高校总数\":90,\"三甲医院\":36,\"小学生数量\":57.9}\n",
    "xiAn={\"GDP\":9321.19,\"总人口\":986.87,\"平均房价\":9984.54,\"平均工资\":87125,\"地铁总里程\":155.66,\"高校总数\":75,\"三甲医院\":41,\"小学生数量\":73.09}\n",
    "tianjin={\"GDP\":14104.28,\"总人口\":1081.63,\"平均房价\":15924.26,\"平均工资\":100731,\"地铁总里程\":233,\"高校总数\":71,\"三甲医院\":49,\"小学生数量\":67.32}"
   ]
  },
  {
   "cell_type": "code",
   "execution_count": 3,
   "metadata": {},
   "outputs": [],
   "source": [
    "list_1={\"北京\":beijing,\"上海\":shanghai,\"深圳\":shenzhen,\"广州\":guangzhou,\"成都\":chengdu,\"重庆\":chongqing,\"杭州\":hangzhou,\"武汉\":wuhan,\"西安\":xiAn,\"天津\":tianjin}"
   ]
  },
  {
   "cell_type": "code",
   "execution_count": 4,
   "metadata": {},
   "outputs": [],
   "source": [
    "for key,i in list_1.items():\n",
    "    list_1[key][\"工资比房价\"]=round(i[\"平均工资\"]/i[\"平均房价\"],2)"
   ]
  },
  {
   "cell_type": "code",
   "execution_count": 5,
   "metadata": {},
   "outputs": [],
   "source": [
    "#list_1=[beijing,shanghai,shenzhen,guangzhou,chengdu,chongqing,hangzhou,wuhan,xiAn,tianjin]"
   ]
  },
  {
   "cell_type": "code",
   "execution_count": 6,
   "metadata": {},
   "outputs": [],
   "source": [
    "info={}\n",
    "aggregate={}\n",
    "Sum={}"
   ]
  },
  {
   "cell_type": "code",
   "execution_count": 7,
   "metadata": {},
   "outputs": [],
   "source": [
    "for i in list_1: #北京\n",
    "    for j in list_1[i]: #GDP\n",
    "        for l in list_1: \n",
    "            info[l]=list_1[l][j]\n",
    "        aggregate[j]=copy.deepcopy(info)\n",
    "        "
   ]
  },
  {
   "cell_type": "code",
   "execution_count": 8,
   "metadata": {},
   "outputs": [
    {
     "name": "stdout",
     "output_type": "stream",
     "text": [
      "('GDP', {'北京': 35371.28, '上海': 35155.32, '深圳': 26927.09, '广州': 23628.6, '成都': 17012.65, '重庆': 23605.77, '杭州': 15373, '武汉': 17157, '西安': 9321.19, '天津': 14104.28})\n",
      "('总人口', {'北京': 1375.8, '上海': 1462.38, '深圳': 454.7, '广州': 927.69, '成都': 1476.05, '重庆': 1962.66, '杭州': 774.1, '武汉': 883.73, '西安': 986.87, '天津': 1081.63})\n",
      "('平均房价', {'北京': 37420.19, '上海': 28981.11, '深圳': 55441.01, '广州': 21581.27, '成都': 9783.16, '重庆': 8189.98, '杭州': 24360.2, '武汉': 12678.48, '西安': 9984.54, '天津': 15924.26})\n",
      "('平均工资', {'北京': 145766, '上海': 140400, '深圳': 111709, '广州': 111839, '成都': 88011, '重庆': 78928, '杭州': 106709, '武汉': 88327, '西安': 87125, '天津': 100731})\n",
      "('地铁总里程', {'北京': 699.3, '上海': 705, '深圳': 303.4, '广州': 513, '成都': 302.285, '重庆': 313.36, '杭州': 135.36, '武汉': 339, '西安': 155.66, '天津': 233})\n",
      "('高校总数', {'北京': 116, '上海': 78, '深圳': 8, '广州': 91, '成都': 68, '重庆': 69, '杭州': 46, '武汉': 90, '西安': 75, '天津': 71})\n",
      "('三甲医院', {'北京': 78, '上海': 66, '深圳': 66, '广州': 62, '成都': 29, '重庆': 27, '杭州': 20, '武汉': 36, '西安': 41, '天津': 49})\n",
      "('小学生数量', {'北京': 91.3, '上海': 80.02, '深圳': 102.8, '广州': 105.85, '成都': 94.2, '重庆': 126.15, '杭州': 59.1, '武汉': 57.9, '西安': 73.09, '天津': 67.32})\n",
      "('工资比房价', {'北京': 3.9, '上海': 4.84, '深圳': 2.01, '广州': 5.18, '成都': 9.0, '重庆': 9.64, '杭州': 4.38, '武汉': 6.97, '西安': 8.73, '天津': 6.33})\n"
     ]
    }
   ],
   "source": [
    "for i in aggregate.items():\n",
    "    print(i)"
   ]
  },
  {
   "cell_type": "code",
   "execution_count": 9,
   "metadata": {},
   "outputs": [],
   "source": [
    "def my_sort(aggregate):\n",
    "    Sum={'北京': 0, '上海': 0, '深圳': 0, '广州': 0, '重庆': 0, '武汉': 0, '成都': 0, '杭州': 0, '天津': 0, '西安': 0}\n",
    "    for key,i in aggregate.items():\n",
    "        No=10\n",
    "        j=sorted(i.items(),key=lambda x:x[1],reverse=(lambda x: False if x==\"平均房价\" else True)(key))\n",
    "        for k in j:\n",
    "            Sum[k[0]]=Sum[k[0]]+No\n",
    "            No=No-1\n",
    "        print(key,j)\n",
    "    return Sum\n",
    "            \n",
    "            \n",
    "        "
   ]
  },
  {
   "cell_type": "code",
   "execution_count": 10,
   "metadata": {},
   "outputs": [
    {
     "name": "stdout",
     "output_type": "stream",
     "text": [
      "GDP [('北京', 35371.28), ('上海', 35155.32), ('深圳', 26927.09), ('广州', 23628.6), ('重庆', 23605.77), ('武汉', 17157), ('成都', 17012.65), ('杭州', 15373), ('天津', 14104.28), ('西安', 9321.19)]\n",
      "总人口 [('重庆', 1962.66), ('成都', 1476.05), ('上海', 1462.38), ('北京', 1375.8), ('天津', 1081.63), ('西安', 986.87), ('广州', 927.69), ('武汉', 883.73), ('杭州', 774.1), ('深圳', 454.7)]\n",
      "平均房价 [('重庆', 8189.98), ('成都', 9783.16), ('西安', 9984.54), ('武汉', 12678.48), ('天津', 15924.26), ('广州', 21581.27), ('杭州', 24360.2), ('上海', 28981.11), ('北京', 37420.19), ('深圳', 55441.01)]\n",
      "平均工资 [('北京', 145766), ('上海', 140400), ('广州', 111839), ('深圳', 111709), ('杭州', 106709), ('天津', 100731), ('武汉', 88327), ('成都', 88011), ('西安', 87125), ('重庆', 78928)]\n",
      "地铁总里程 [('上海', 705), ('北京', 699.3), ('广州', 513), ('武汉', 339), ('重庆', 313.36), ('深圳', 303.4), ('成都', 302.285), ('天津', 233), ('西安', 155.66), ('杭州', 135.36)]\n",
      "高校总数 [('北京', 116), ('广州', 91), ('武汉', 90), ('上海', 78), ('西安', 75), ('天津', 71), ('重庆', 69), ('成都', 68), ('杭州', 46), ('深圳', 8)]\n",
      "三甲医院 [('北京', 78), ('上海', 66), ('深圳', 66), ('广州', 62), ('天津', 49), ('西安', 41), ('武汉', 36), ('成都', 29), ('重庆', 27), ('杭州', 20)]\n",
      "小学生数量 [('重庆', 126.15), ('广州', 105.85), ('深圳', 102.8), ('成都', 94.2), ('北京', 91.3), ('上海', 80.02), ('西安', 73.09), ('天津', 67.32), ('杭州', 59.1), ('武汉', 57.9)]\n",
      "工资比房价 [('重庆', 9.64), ('成都', 9.0), ('西安', 8.73), ('武汉', 6.97), ('天津', 6.33), ('广州', 5.18), ('上海', 4.84), ('杭州', 4.38), ('北京', 3.9), ('深圳', 2.01)]\n"
     ]
    }
   ],
   "source": [
    "Sum=my_sort(aggregate)\n",
    "new_Sum=dict(sorted(Sum.items(),key=lambda x:x[1],reverse=True))"
   ]
  },
  {
   "cell_type": "code",
   "execution_count": 11,
   "metadata": {},
   "outputs": [
    {
     "name": "stdout",
     "output_type": "stream",
     "text": [
      "{'北京': 66, '上海': 64, '广州': 62, '重庆': 59, '成都': 51, '武汉': 46, '天津': 42, '西安': 41, '深圳': 40, '杭州': 24}\n"
     ]
    }
   ],
   "source": [
    "print(new_Sum)"
   ]
  },
  {
   "cell_type": "code",
   "execution_count": 12,
   "metadata": {},
   "outputs": [],
   "source": [
    "import matplotlib.pyplot as pl\n",
    "import numpy as np\n",
    "from pylab import *\n",
    "mpl.rcParams['font.sans-serif']=['SimHei']"
   ]
  },
  {
   "cell_type": "code",
   "execution_count": 13,
   "metadata": {},
   "outputs": [],
   "source": [
    "city=list(new_Sum.keys()) #x轴\n",
    "GDP=list(new_Sum.values()) #y轴"
   ]
  },
  {
   "cell_type": "code",
   "execution_count": 14,
   "metadata": {},
   "outputs": [],
   "source": [
    "#print(city,GDP)"
   ]
  },
  {
   "cell_type": "code",
   "execution_count": 15,
   "metadata": {},
   "outputs": [
    {
     "data": {
      "image/png": "[encoded data removed]",
      "text/plain": [
       "<Figure size 432x288 with 1 Axes>"
      ]
     },
     "metadata": {
      "needs_background": "light"
     },
     "output_type": "display_data"
    }
   ],
   "source": [
    "#labels = ['A', 'B', 'C', 'D', 'E']\n",
    "#values = [30, 23, 40, 50, 66]\n",
    "#生成一个固定步长的排列\n",
    "X = np.arange(len(city))\n",
    "#柱状图宽度为0.3，颜色默认为蓝色，透明度为0.8，标签为’This is a example‘\n",
    "pl.bar(X, GDP, width = 0.3, alpha = 0.8, label = 'This is a example')\n",
    "\n",
    "#对于每一个（x, y）在垂直方向为center, 水平位置为bottom的位置生成字体大小为10的y\n",
    "for x, y in zip(X, GDP):\n",
    "    pl.text(x, y, '%.4f' % y, fontsize = 10, ha = 'center', va = 'bottom')\n",
    "#对于每一个位置生成一个label\n",
    "pl.xticks(X, labels = city)\n",
    "pl.title('Example') #图的标题\n",
    "\n",
    "pl.legend() #生成标签\n",
    "pl.show()\n"
   ]
  }
 ],
 "metadata": {
  "interpreter": {
   "hash": "67f1dc6f6f712f7142079021955b91e049abb319dcfdc9eed010dd73dd4d845d"
  },
  "kernelspec": {
   "display_name": "Python 3.9.10 64-bit",
   "language": "python",
   "name": "python3"
  },
  "language_info": {
   "codemirror_mode": {
    "name": "ipython",
    "version": 3
   },
   "file_extension": ".py",
   "mimetype": "text/x-python",
   "name": "python",
   "nbconvert_exporter": "python",
   "pygments_lexer": "ipython3",
   "version": "3.9.10"
  },
  "orig_nbformat": 4
 },
 "nbformat": 4,
 "nbformat_minor": 2
}
